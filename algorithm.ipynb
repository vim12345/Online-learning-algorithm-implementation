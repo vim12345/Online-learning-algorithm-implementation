{
  "nbformat": 4,
  "nbformat_minor": 0,
  "metadata": {
    "colab": {
      "provenance": []
    },
    "kernelspec": {
      "name": "python3",
      "display_name": "Python 3"
    },
    "language_info": {
      "name": "python"
    }
  },
  "cells": [
    {
      "cell_type": "code",
      "execution_count": 1,
      "metadata": {
        "id": "ihLrOtZCbUG0"
      },
      "outputs": [],
      "source": [
        "import numpy as np\n",
        "import pandas as pd\n",
        "from sklearn.linear_model import SGDClassifier\n",
        "from sklearn.datasets import make_classification\n",
        "from sklearn.metrics import accuracy_score\n",
        "from sklearn.model_selection import train_test_split"
      ]
    },
    {
      "cell_type": "code",
      "source": [
        "# Generate a simulated binary classification dataset\n",
        "X, y = make_classification(n_samples=1000, n_features=10, random_state=42)\n",
        "X_train, X_test, y_train, y_test = train_test_split(X, y, test_size=0.3, random_state=42)\n",
        ""
      ],
      "metadata": {
        "id": "OjnfB7Cxba2_"
      },
      "execution_count": 2,
      "outputs": []
    },
    {
      "cell_type": "code",
      "source": [
        "# Initialize an online learning model with logistic regression loss\n",
        "model = SGDClassifier(loss='log_loss', learning_rate='optimal', max_iter=1, warm_start=True)\n",
        ""
      ],
      "metadata": {
        "id": "grMYeZllbdPG"
      },
      "execution_count": 3,
      "outputs": []
    },
    {
      "cell_type": "code",
      "source": [
        "# Train the model in small batches to simulate streaming\n",
        "batch_size = 100\n",
        "n_batches = int(np.ceil(len(X_train) / batch_size))\n",
        "\n",
        "print(\"Training with online batches...\\n\")\n",
        "for i in range(n_batches):\n",
        "    start = i * batch_size\n",
        "    end = start + batch_size\n",
        "    X_batch = X_train[start:end]\n",
        "    y_batch = y_train[start:end]\n",
        "    model.partial_fit(X_batch, y_batch, classes=np.unique(y))  # Online update\n",
        "    acc = model.score(X_batch, y_batch)\n",
        "    print(f\"Batch {i+1}/{n_batches} Accuracy: {acc:.2f}\")\n",
        ""
      ],
      "metadata": {
        "colab": {
          "base_uri": "https://localhost:8080/"
        },
        "id": "8D4NQBnwbe7r",
        "outputId": "3853c713-8c90-44c2-aafd-265b535bce75"
      },
      "execution_count": 5,
      "outputs": [
        {
          "output_type": "stream",
          "name": "stdout",
          "text": [
            "Training with online batches...\n",
            "\n",
            "Batch 1/7 Accuracy: 0.77\n",
            "Batch 2/7 Accuracy: 0.82\n",
            "Batch 3/7 Accuracy: 0.89\n",
            "Batch 4/7 Accuracy: 0.87\n",
            "Batch 5/7 Accuracy: 0.77\n",
            "Batch 6/7 Accuracy: 0.84\n",
            "Batch 7/7 Accuracy: 0.86\n"
          ]
        }
      ]
    },
    {
      "cell_type": "code",
      "source": [
        "# Evaluate on test set\n",
        "y_pred = model.predict(X_test)\n",
        "print(\"\\nFinal Evaluation on Test Data:\")\n",
        "print(f\"Accuracy: {accuracy_score(y_test, y_pred):.2f}\")"
      ],
      "metadata": {
        "colab": {
          "base_uri": "https://localhost:8080/"
        },
        "id": "JAO7CLkabgyZ",
        "outputId": "d473512f-d0b3-443b-de01-5ae7e999d48c"
      },
      "execution_count": 6,
      "outputs": [
        {
          "output_type": "stream",
          "name": "stdout",
          "text": [
            "\n",
            "Final Evaluation on Test Data:\n",
            "Accuracy: 0.82\n"
          ]
        }
      ]
    },
    {
      "cell_type": "code",
      "source": [],
      "metadata": {
        "id": "GhavU112boXR"
      },
      "execution_count": null,
      "outputs": []
    }
  ]
}